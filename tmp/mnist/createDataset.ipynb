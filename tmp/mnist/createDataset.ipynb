{
 "cells": [
  {
   "cell_type": "code",
   "execution_count": 3,
   "metadata": {},
   "outputs": [],
   "source": [
    "import numpy as np\n",
    "import os\n",
    "import cv2 as cv\n",
    "import random"
   ]
  },
  {
   "cell_type": "code",
   "execution_count": 5,
   "metadata": {},
   "outputs": [
    {
     "name": "stdout",
     "output_type": "stream",
     "text": [
      "980\n",
      "1135\n",
      "1032\n",
      "1010\n",
      "982\n",
      "892\n",
      "958\n",
      "1028\n",
      "974\n",
      "1009\n"
     ]
    }
   ],
   "source": [
    "DIR = r'testing'\n",
    "\n",
    "f = open(\"mnist_test.txt\", \"a\")\n",
    "np.set_printoptions(threshold=np.inf, linewidth=np.inf,\n",
    "                    precision=6, floatmode=\"fixed\")\n",
    "for folder in os.listdir(DIR):\n",
    "    count = 0\n",
    "    for img_name in os.listdir(os.path.join(DIR, folder)):\n",
    "        img = cv.imread(os.path.join(DIR, folder, img_name))\n",
    "        height, width, channels = img.shape\n",
    "        img = img[:,:,0]\n",
    "        img = img.reshape(1, -1)\n",
    "        f.write(\"in: \")\n",
    "        f.write(np.array2string(img[0]/127.5 - 1.0)+\"\\n\")\n",
    "        f.write(\"out: \")\n",
    "        label = np.array([0, 0, 0, 0, 0, 0, 0, 0, 0, 0])\n",
    "        label[int(folder)] = 1\n",
    "        label = label.reshape(1, -1)\n",
    "        f.write(np.array2string(label[0]))\n",
    "        f.write(\"\\n\")\n",
    "        count = count + 1\n",
    "    print(count)\n",
    "\n",
    "f.close()"
   ]
  },
  {
   "cell_type": "code",
   "execution_count": 8,
   "metadata": {},
   "outputs": [
    {
     "name": "stdout",
     "output_type": "stream",
     "text": [
      "5923\n",
      "6742\n",
      "5958\n",
      "6131\n",
      "5842\n",
      "5421\n",
      "5918\n",
      "6265\n",
      "5851\n",
      "5949\n"
     ]
    }
   ],
   "source": [
    "DIR = r'training'\n",
    "\n",
    "f = open(\"mnist_train.txt\", \"a\")\n",
    "np.set_printoptions(threshold=np.inf, linewidth=np.inf,\n",
    "                    precision=6, floatmode=\"fixed\")\n",
    "for folder in os.listdir(DIR):\n",
    "    count = 0\n",
    "    for img_name in os.listdir(os.path.join(DIR, folder)):\n",
    "        img = cv.imread(os.path.join(DIR, folder, img_name))\n",
    "        height, width, channels = img.shape\n",
    "        img = img[:,:,0]\n",
    "        img = img.reshape(1, -1)\n",
    "        f.write(\"in: \")\n",
    "        f.write(np.array2string(img[0]/127.5 - 1.0)+\"\\n\")\n",
    "        f.write(\"out: \")\n",
    "        label = np.array([0, 0, 0, 0, 0, 0, 0, 0, 0, 0])\n",
    "        label[int(folder)] = 1\n",
    "        label = label.reshape(1, -1)\n",
    "        f.write(np.array2string(label[0]))\n",
    "        f.write(\"\\n\")\n",
    "        count = count + 1\n",
    "    print(count)\n",
    "\n",
    "f.close()"
   ]
  }
 ],
 "metadata": {
  "kernelspec": {
   "display_name": "base",
   "language": "python",
   "name": "python3"
  },
  "language_info": {
   "codemirror_mode": {
    "name": "ipython",
    "version": 3
   },
   "file_extension": ".py",
   "mimetype": "text/x-python",
   "name": "python",
   "nbconvert_exporter": "python",
   "pygments_lexer": "ipython3",
   "version": "3.11.5"
  }
 },
 "nbformat": 4,
 "nbformat_minor": 2
}
